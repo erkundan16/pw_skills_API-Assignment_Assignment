{
 "cells": [
  {
   "cell_type": "markdown",
   "id": "1935300f-ebef-4212-b524-4cdd98b87aa2",
   "metadata": {},
   "source": [
    "Q1. What is an API?\n",
    "\n",
    "An API, or Application Programming Interface, is a set of rules or protocols that allow software applications to communicate with each other. It acts as a bridge between two software components, enabling them to exchange data and perform various tasks seamlessly. In simpler terms, an API is a part of a software component that is accessible to other components.\n",
    "\n",
    "Example of API in Real Life:\n",
    "\n",
    "One common example of API usage in our daily life is weather data. For instance, when you search “weather  Bihar” on Google, you’ll see a dedicated box at the top of the search results with the current weather conditions and forecast. Google sources this information from a third party via an API, which sends them the latest weather details in a way that’s easy for them to reformat4.\n",
    "\n",
    "Another example is the “Log in with Facebook/Twitter/Google” functionality you see on many websites. Instead of actually logging into users’ social media accounts, applications with this functionality leverage these platforms’ APIs to authenticate the user \n",
    "\n",
    "\n"
   ]
  },
  {
   "cell_type": "markdown",
   "id": "331fe01d-3b10-434b-9eef-642fcc0703bb",
   "metadata": {},
   "source": [
    "Q2. Advantages and Disadvantages of Using API\n",
    "\n",
    "Advantages:\n",
    "\n",
    "APIs bring a new level of modularity to applications.\n",
    "They allow developers to leverage the expertise of other applications.\n",
    "APIs provide a way for applications to communicate and interact with each other.\n",
    "They enable creativity when setting up a communication channel between applications.\n",
    "\n",
    "Disadvantages:\n",
    "\n",
    "As a single point of entry, an API can become a hacker’s primary target.\n",
    "Once the API is compromised, all other applications and systems become vulnerable.\n",
    "APIs require a change of mindset compared with traditional strategies."
   ]
  },
  {
   "cell_type": "markdown",
   "id": "66fc4a64-fcec-4a7b-9fb7-510627706067",
   "metadata": {},
   "source": [
    "Q3. What is a Web API? Differentiate between API and Web API\n",
    "\n",
    "A Web API, or Application Programming Interface, is a set of rules and protocols that allows different software applications to communicate and interact with each other. It acts as an intermediary between two applications, enabling them to exchange data and perform various tasks seamlessly.\n",
    "\n",
    "Difference between API and Web API:\n",
    "\n",
    "An API is a software interface that allows two applications to interact with each other without any user involvement.\n",
    "A Web API is an API over the web which can be accessed using HTTP protocol.\n",
    "All Web services are APIs, but not all APIs are Web services.\n",
    "Web service supports only HTTP protocol, whereas API supports HTTP/HTTPS protocol."
   ]
  },
  {
   "cell_type": "markdown",
   "id": "afb62061-e7d5-4b79-a1bb-d00b608bce13",
   "metadata": {},
   "source": [
    "Q4. Explain REST and SOAP Architecture. Mention shortcomings of SOAP\n",
    "\n",
    "REST (Representational State Transfer) is an architectural style that defines a set of principles for designing distributed systems on the web. A REST API is an API that follows these principles, which makes it perfect for communications in web environments.\n",
    "\n",
    "SOAP (Simple Object Access Protocol) is a protocol that defines a standard for communication between a server and a client using XML-based message exchange format. It allows processes to communicate throughout platforms, languages, and operating systems.\n",
    "\n",
    "Shortcomings of SOAP:\n",
    "\n",
    "SOAP does not support caching API calls.\n",
    "SOAP is much more complicated than REST, which can have performance implications.\n",
    "SOAP is much less adaptable than REST.\n",
    "SOAP is usually slower than REST."
   ]
  },
  {
   "cell_type": "markdown",
   "id": "4fd782a7-9b49-4c23-b6b3-ffbf7f04e2a8",
   "metadata": {},
   "source": [
    "Q5. Differentiate between REST and SOAP\n",
    "\n",
    "SOAP is a protocol, while REST is an architectural style.\n",
    "SOAP uses only XML for exchanging information in its message format, whereas REST is not restricted to XML.\n",
    "SOAP uses services interfaces to expose the business logic, whereas REST uses URI.\n",
    "SOAP requires more bandwidth and resources than REST.\n",
    "SOAP has ACID compliance transaction.\n",
    "On the basis of Security, SOAP has SSL (Secure Socket Layer) and WS-security whereas REST has SSL and HTTPS.\n",
    "SOAP cannot make use of REST since SOAP is a protocol without any architectural pattern. REST can make use of SOAP because it is an architectural pattern having protocol."
   ]
  },
  {
   "cell_type": "code",
   "execution_count": null,
   "id": "54b8d713-4e48-4fa0-ba04-a5c7859ac5bc",
   "metadata": {},
   "outputs": [],
   "source": []
  },
  {
   "cell_type": "code",
   "execution_count": null,
   "id": "a9aab2a2-95ad-4075-b3ef-0afcc0afe222",
   "metadata": {},
   "outputs": [],
   "source": []
  }
 ],
 "metadata": {
  "kernelspec": {
   "display_name": "Python 3 (ipykernel)",
   "language": "python",
   "name": "python3"
  },
  "language_info": {
   "codemirror_mode": {
    "name": "ipython",
    "version": 3
   },
   "file_extension": ".py",
   "mimetype": "text/x-python",
   "name": "python",
   "nbconvert_exporter": "python",
   "pygments_lexer": "ipython3",
   "version": "3.10.8"
  }
 },
 "nbformat": 4,
 "nbformat_minor": 5
}
